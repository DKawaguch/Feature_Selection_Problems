{
 "cells": [
  {
   "cell_type": "code",
   "execution_count": 1,
   "metadata": {},
   "outputs": [
    {
     "name": "stdout",
     "output_type": "stream",
     "text": [
      "<pyspark.sql.session.SparkSession object at 0x000001E0CA7AB500>\n"
     ]
    }
   ],
   "source": [
    "import os\n",
    "# Set up environment variables\n",
    "os.environ['JAVA_HOME'] = r'C:\\Program Files\\Java\\jdk-21'\n",
    "os.environ['SPARK_HOME'] = r'C:\\Users\\kawda\\Downloads\\spark-3.5.4-bin-hadoop3\\spark-3.5.4-bin-hadoop3'\n",
    "\n",
    "# Initialize a Spark session\n",
    "import findspark\n",
    "findspark.init()\n",
    "from pyspark.sql import SparkSession\n",
    "spark = SparkSession.builder \\\n",
    "\t.master(\"local[*]\") \\\n",
    "\t.config(\"spark.executor.memory\", \"2g\") \\\n",
    "\t.config(\"spark.driver.memory\", \"2g\") \\\n",
    "\t.getOrCreate()\n",
    "\n",
    "# Verify the Spark session\n",
    "print(spark)"
   ]
  }
 ],
 "metadata": {
  "kernelspec": {
   "display_name": "Python 3",
   "language": "python",
   "name": "python3"
  },
  "language_info": {
   "codemirror_mode": {
    "name": "ipython",
    "version": 3
   },
   "file_extension": ".py",
   "mimetype": "text/x-python",
   "name": "python",
   "nbconvert_exporter": "python",
   "pygments_lexer": "ipython3",
   "version": "3.12.2"
  }
 },
 "nbformat": 4,
 "nbformat_minor": 2
}
